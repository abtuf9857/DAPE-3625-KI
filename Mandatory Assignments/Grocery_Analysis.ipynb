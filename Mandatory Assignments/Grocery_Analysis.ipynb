{
 "cells": [
  {
   "cell_type": "code",
   "execution_count": null,
   "id": "5210a935-c3dc-44b0-b9d8-a7c0150ca9f3",
   "metadata": {},
   "outputs": [
    {
     "name": "stdout",
     "output_type": "stream",
     "text": [
      "Amount rows: 5000\n",
      "Amount columns: 12\n",
      "First 10 rows:\n",
      "  Item_Identifier  Item_Weight Item_Fat_Content  Item_Visibility  \\\n",
      "0           FDA15        9.300          Low Fat         0.016047   \n",
      "1           DRC01        5.920          Regular         0.019278   \n",
      "2           FDN15       17.500          Low Fat         0.016760   \n",
      "3           FDX07       19.200          Regular         0.000000   \n",
      "4           NCD19        8.930          Low Fat         0.000000   \n",
      "5           FDP36       10.395          Regular         0.000000   \n",
      "6           FDO10       13.650          Regular         0.012741   \n",
      "7           FDP10          NaN          Low Fat         0.127470   \n",
      "8           FDH17       16.200          Regular         0.016687   \n",
      "9           FDU28       19.200          Regular         0.094450   \n",
      "\n",
      "               Item_Type  Item_MRP Outlet_Identifier  \\\n",
      "0                  Dairy  249.8092            OUT049   \n",
      "1            Soft Drinks   48.2692            OUT018   \n",
      "2                   Meat  141.6180            OUT049   \n",
      "3  Fruits and Vegetables  182.0950            OUT010   \n",
      "4              Household   53.8614            OUT013   \n",
      "5           Baking Goods   51.4008            OUT018   \n",
      "6            Snack Foods   57.6588            OUT013   \n",
      "7            Snack Foods  107.7622            OUT027   \n",
      "8           Frozen Foods   96.9726            OUT045   \n",
      "9           Frozen Foods  187.8214            OUT017   \n",
      "\n",
      "   Outlet_Establishment_Year Outlet_Size Outlet_Location_Type  \\\n",
      "0                       1999      Medium               Tier 1   \n",
      "1                       2009      Medium               Tier 3   \n",
      "2                       1999      Medium               Tier 1   \n",
      "3                       1998         NaN               Tier 3   \n",
      "4                       1987        High               Tier 3   \n",
      "5                       2009      Medium               Tier 3   \n",
      "6                       1987        High               Tier 3   \n",
      "7                       1985      Medium               Tier 3   \n",
      "8                       2002         NaN               Tier 2   \n",
      "9                       2007         NaN               Tier 2   \n",
      "\n",
      "         Outlet_Type  Item_Outlet_Sales  \n",
      "0  Supermarket Type1          3735.1380  \n",
      "1  Supermarket Type2           443.4228  \n",
      "2  Supermarket Type1          2097.2700  \n",
      "3      Grocery Store           732.3800  \n",
      "4  Supermarket Type1           994.7052  \n",
      "5  Supermarket Type2           556.6088  \n",
      "6  Supermarket Type1           343.5528  \n",
      "7  Supermarket Type3          4022.7636  \n",
      "8  Supermarket Type1          1076.5986  \n",
      "9  Supermarket Type1          4710.5350  \n",
      "Last 10 rows:\n",
      "     Item_Identifier  Item_Weight Item_Fat_Content  Item_Visibility  \\\n",
      "4990           FDE46        18.60          Low Fat         0.015859   \n",
      "4991           NCQ53        17.60          Low Fat         0.018905   \n",
      "4992           NCN42        20.25          Low Fat         0.014281   \n",
      "4993           DRH11         5.98          Low Fat         0.075675   \n",
      "4994           NCI42        18.75          Low Fat         0.010382   \n",
      "4995           FDT07         5.82          Regular         0.077476   \n",
      "4996           DRL60         8.52          Low Fat         0.027059   \n",
      "4997           FDG20        15.50          Regular         0.126200   \n",
      "4998           FDF56        16.70          Regular         0.119462   \n",
      "4999           FDV33         9.60          Regular         0.027455   \n",
      "\n",
      "                  Item_Type  Item_MRP Outlet_Identifier  \\\n",
      "4990            Snack Foods  152.9366            OUT017   \n",
      "4991     Health and Hygiene  234.6590            OUT046   \n",
      "4992              Household  148.0418            OUT018   \n",
      "4993            Hard Drinks   53.3614            OUT049   \n",
      "4994              Household  207.8954            OUT049   \n",
      "4995  Fruits and Vegetables  255.3330            OUT045   \n",
      "4996            Soft Drinks  153.3682            OUT046   \n",
      "4997  Fruits and Vegetables  178.4028            OUT018   \n",
      "4998  Fruits and Vegetables  182.7976            OUT046   \n",
      "4999            Snack Foods  258.1304            OUT018   \n",
      "\n",
      "      Outlet_Establishment_Year Outlet_Size Outlet_Location_Type  \\\n",
      "4990                       2007         NaN               Tier 2   \n",
      "4991                       1997       Small               Tier 1   \n",
      "4992                       2009      Medium               Tier 3   \n",
      "4993                       1999      Medium               Tier 1   \n",
      "4994                       1999      Medium               Tier 1   \n",
      "4995                       2002         NaN               Tier 2   \n",
      "4996                       1997       Small               Tier 1   \n",
      "4997                       2009      Medium               Tier 3   \n",
      "4998                       1997       Small               Tier 1   \n",
      "4999                       2009      Medium               Tier 3   \n",
      "\n",
      "            Outlet_Type  Item_Outlet_Sales  \n",
      "4990  Supermarket Type1           453.4098  \n",
      "4991  Supermarket Type1          8508.9240  \n",
      "4992  Supermarket Type2          1177.1344  \n",
      "4993  Supermarket Type1           331.5684  \n",
      "4994  Supermarket Type1          2292.3494  \n",
      "4995  Supermarket Type1          4870.3270  \n",
      "4996  Supermarket Type1           914.8092  \n",
      "4997  Supermarket Type2          1239.7196  \n",
      "4998  Supermarket Type1          1810.9760  \n",
      "4999  Supermarket Type2          2324.9736  \n"
     ]
    }
   ],
   "source": [
    "import pandas as pd\n",
    "import seaborn as sns\n",
    "import matplotlib.pyplot as plt\n",
    "\n",
    "\n",
    "\n",
    "Grc_df = pd.read_csv('Grocery_dataset.csv')  \n",
    "\n",
    "# Amount of rows and columns\n",
    "print(f\"Amount rows: {Grc_df.shape[0]}\")\n",
    "print(f\"Amount columns: {Grc_df.shape[1]}\")\n",
    "\n",
    "# 10 first rows\n",
    "print(\"First 10 rows:\")\n",
    "print(Grc_df.head(10))\n",
    "\n",
    "# Last 10 rows\n",
    "print(\"Last 10 rows:\")\n",
    "print(Grc_df.tail(10))"
   ]
  },
  {
   "cell_type": "code",
   "execution_count": null,
   "id": "5e6df5aa-2743-47fd-9a8f-f23968d1e4fa",
   "metadata": {},
   "outputs": [
    {
     "name": "stdout",
     "output_type": "stream",
     "text": [
      "Null values in each column:\n",
      "Item_Identifier                 0\n",
      "Item_Weight                   818\n",
      "Item_Fat_Content                0\n",
      "Item_Visibility                 0\n",
      "Item_Type                       0\n",
      "Item_MRP                        0\n",
      "Outlet_Identifier               0\n",
      "Outlet_Establishment_Year       0\n",
      "Outlet_Size                  1439\n",
      "Outlet_Location_Type            0\n",
      "Outlet_Type                     0\n",
      "Item_Outlet_Sales               0\n",
      "dtype: int64\n",
      "Null values after handling:\n",
      "Item_Identifier              0\n",
      "Item_Weight                  0\n",
      "Item_Fat_Content             0\n",
      "Item_Visibility              0\n",
      "Item_Type                    0\n",
      "Item_MRP                     0\n",
      "Outlet_Identifier            0\n",
      "Outlet_Establishment_Year    0\n",
      "Outlet_Size                  0\n",
      "Outlet_Location_Type         0\n",
      "Outlet_Type                  0\n",
      "Item_Outlet_Sales            0\n",
      "dtype: int64\n"
     ]
    }
   ],
   "source": [
    "#2\n",
    "import pandas as pd\n",
    "import seaborn as sns\n",
    "import matplotlib.pyplot as plt\n",
    "\n",
    "Grc_df = pd.read_csv('Grocery_dataset.csv')  \n",
    "\n",
    "\n",
    "\n",
    "print(\"Null values in each column:\")\n",
    "print(Grc_df.isnull().sum())\n",
    "\n",
    "\n",
    "\n",
    "numerical_columns = Grc_df.select_dtypes(include=['float64', 'int64']).columns\n",
    "Grc_df[numerical_columns] = Grc_df[numerical_columns].fillna(Grc_df[numerical_columns].mean())\n",
    "\n",
    "# Filling in null values for categorical columns\n",
    "categorical_columns = Grc_df.select_dtypes(include=['object']).columns\n",
    "Grc_df[categorical_columns] = Grc_df[categorical_columns].fillna(Grc_df[categorical_columns].mode().iloc[0])\n",
    "\n",
    "# Displaying after handling null values\n",
    "print(\"Null values after handling:\")\n",
    "print(Grc_df.isnull().sum())\n",
    "\n"
   ]
  },
  {
   "cell_type": "code",
   "execution_count": 28,
   "id": "00b33cc5-62b8-480e-b384-ec0e46930564",
   "metadata": {},
   "outputs": [
    {
     "name": "stdout",
     "output_type": "stream",
     "text": [
      "Unike Outlet Sizes og deres antall:\n",
      "Outlet_Size\n",
      "Medium    3044\n",
      "Small     1398\n",
      "High       558\n",
      "Name: count, dtype: int64\n",
      "Biggest Outlet Size: Medium\n",
      "Smallest Outlet Size: High\n"
     ]
    }
   ],
   "source": [
    "# 3\n",
    "\n",
    "# Amount of unique values\n",
    "unique_outlet_sizes = Grc_df['Outlet_Size'].value_counts()\n",
    "print(\"Unike Outlet Sizes og deres antall:\")\n",
    "print(unique_outlet_sizes)\n",
    "\n",
    "# Makximum and minimum\n",
    "max_size = unique_outlet_sizes.idxmax()\n",
    "min_size = unique_outlet_sizes.idxmin()\n",
    "print(f\"Biggest Outlet Size: {max_size}\")\n",
    "print(f\"Smallest Outlet Size: {min_size}\")"
   ]
  },
  {
   "cell_type": "code",
   "execution_count": null,
   "id": "62ccd38b-c142-4213-8db7-6cf35368e8e4",
   "metadata": {},
   "outputs": [
    {
     "name": "stdout",
     "output_type": "stream",
     "text": [
      "['Low Fat' 'Regular']\n",
      "The amount of different types are\n"
     ]
    },
    {
     "data": {
      "text/plain": [
       "2"
      ]
     },
     "execution_count": 91,
     "metadata": {},
     "output_type": "execute_result"
    }
   ],
   "source": [
    "#4\n",
    "\n",
    "\n",
    "print(Grc_df['Item_Fat_Content'].unique())\n",
    "print(f\"The amount of different types are\")\n",
    "Grc_df['Item_Fat_Content'].nunique()\n",
    "\n",
    "\n"
   ]
  },
  {
   "cell_type": "code",
   "execution_count": 79,
   "id": "5c71eecd-7be5-405c-a872-9420229de97c",
   "metadata": {},
   "outputs": [],
   "source": [
    "#5\n",
    "#Dropping columns based on column index\n",
    "Grc_new_df = Grc_df.drop(Grc_df.columns[[0, 6]], axis=1)\n"
   ]
  },
  {
   "cell_type": "code",
   "execution_count": null,
   "id": "df165258",
   "metadata": {},
   "outputs": [],
   "source": [
    "#6\n",
    "\n",
    "\n",
    "# Filtering rows where 'Outlet_Type' is 'Supermarket Type1' and 'Supermarket Type2'\n",
    "SupType_1 = Grc_new_df[Grc_new_df['Outlet_Type'] == 'Supermarket Type1']\n",
    "SupType_2 = Grc_new_df[Grc_new_df['Outlet_Type'] == 'Supermarket Type2']"
   ]
  },
  {
   "cell_type": "code",
   "execution_count": null,
   "id": "0a7c82cd-c1ca-4f10-bf58-fe8656ee2343",
   "metadata": {},
   "outputs": [
    {
     "data": {
      "image/png": "[encoded data removed]",
      "text/plain": [
       "<Figure size 800x1000 with 2 Axes>"
      ]
     },
     "metadata": {},
     "output_type": "display_data"
    }
   ],
   "source": [
    "#7\n",
    "\n",
    "import matplotlib.pyplot as plt\n",
    "import seaborn as sns\n",
    "\n",
    "# Sett ggplot style\n",
    "plt.style.use('ggplot')\n",
    "\n",
    "# Opprett figur og subplots\n",
    "fig, axes = plt.subplots(2, 1, figsize=(8, 10))\n",
    "\n",
    "# Boxplot for SupType_1\n",
    "sns.boxplot(ax=axes[0], x='Item_MRP', data=SupType_1)\n",
    "axes[0].set_title('Item_MRP for SupType_1')\n",
    "\n",
    "# Boxplot for SupType_2\n",
    "sns.boxplot(ax=axes[1], x='Item_MRP', data=SupType_2)\n",
    "axes[1].set_title('Item_MRP for SupType_2')\n",
    "\n",
    "plt.tight_layout()\n",
    "plt.show()\n",
    "\n",
    "#item 1 has a higher mrp\n"
   ]
  },
  {
   "cell_type": "code",
   "execution_count": null,
   "id": "9b145e87",
   "metadata": {},
   "outputs": [
    {
     "data": {
      "text/plain": [
       "'Tier 3'"
      ]
     },
     "execution_count": 87,
     "metadata": {},
     "output_type": "execute_result"
    }
   ],
   "source": [
    "#8\n",
    "\n",
    "# Concatenating SupType_1 and SupType_2 DataFrames into a new DataFrame\n",
    "Grc_Concat_df = pd.concat([SupType_1, SupType_2])\n",
    "\n",
    "# Sorting the concatenated DataFrame in ascending order based on 'Item_Outlet_Sales'\n",
    "Grc_Concat_df.sort_values(by='Item_Outlet_Sales', inplace=True)\n",
    "Grc_Concat_df.groupby('Outlet_Location_Type')['Item_Outlet_Sales'].min().idxmin()\n",
    "\n"
   ]
  },
  {
   "cell_type": "code",
   "execution_count": null,
   "id": "ad564c21",
   "metadata": {},
   "outputs": [
    {
     "name": "stdout",
     "output_type": "stream",
     "text": [
      "MultiIndex([(  'High', 'Tier 3'),\n",
      "            ('Medium', 'Tier 3'),\n",
      "            ('Medium', 'Tier 3'),\n",
      "            ('Medium', 'Tier 2'),\n",
      "            ( 'Small', 'Tier 1'),\n",
      "            ('Medium', 'Tier 1'),\n",
      "            ( 'Small', 'Tier 2'),\n",
      "            ('Medium', 'Tier 3'),\n",
      "            ('Medium', 'Tier 3'),\n",
      "            (  'High', 'Tier 3'),\n",
      "            ...\n",
      "            ( 'Small', 'Tier 2'),\n",
      "            ( 'Small', 'Tier 1'),\n",
      "            ( 'Small', 'Tier 1'),\n",
      "            ('Medium', 'Tier 2'),\n",
      "            ('Medium', 'Tier 2'),\n",
      "            ('Medium', 'Tier 2'),\n",
      "            ('Medium', 'Tier 2'),\n",
      "            ('Medium', 'Tier 2'),\n",
      "            ( 'Small', 'Tier 1'),\n",
      "            (  'High', 'Tier 3')],\n",
      "           names=['Outlet_Size', 'Outlet_Location_Type'], length=3854)\n"
     ]
    }
   ],
   "source": [
    "#9\n",
    "\n",
    "# This code sets a multi-level index using 'Outlet_Size' and 'Outlet_Location_Type' columns\n",
    "Grc_Concat_df.set_index(['Outlet_Size', 'Outlet_Location_Type'], inplace=True)\n",
    "\n",
    "# Prints new index of the concatenated DataFrame\n",
    "print(Grc_Concat_df.index)"
   ]
  },
  {
   "cell_type": "code",
   "execution_count": null,
   "id": "0578fc50",
   "metadata": {},
   "outputs": [
    {
     "name": "stdout",
     "output_type": "stream",
     "text": [
      "Bucket statistics:\n",
      "                         mean     min     max  count\n",
      "Item_Weight_Bucket                                  \n",
      "(4.538, 6.234]       5.623814   4.555   6.215    253\n",
      "(6.234, 7.914]       7.121807   6.235   7.905    476\n",
      "(7.914, 9.594]       8.761867   7.930   9.500    450\n",
      "(9.594, 11.273]     10.344917   9.600  11.150    362\n",
      "(11.273, 12.952]    12.081635  11.300  12.850    419\n",
      "(12.952, 14.632]    13.716193  13.000  14.600    352\n",
      "(14.632, 16.312]    15.495976  14.650  16.250    410\n",
      "(16.312, 17.991]    17.172672  16.350  17.850    408\n",
      "(17.991, 19.671]    18.838005  18.000  19.600    396\n",
      "(19.671, 21.35]     20.357012  19.700  21.350    328\n"
     ]
    },
    {
     "name": "stderr",
     "output_type": "stream",
     "text": [
      "C:\\Users\\Tufa\\AppData\\Local\\Temp\\ipykernel_1468\\3773646725.py:7: FutureWarning: The default of observed=False is deprecated and will be changed to True in a future version of pandas. Pass observed=False to retain current behavior or observed=True to adopt the future default and silence this warning.\n",
      "  print(Grc_Concat_df.groupby('Item_Weight_Bucket')['Item_Weight'].agg(['mean', 'min', 'max', 'count']))\n"
     ]
    }
   ],
   "source": [
    "#10\n",
    "# This code cuts the 'Item_Weight' column into 10 equal-sized buckets (bins)\n",
    "Grc_Concat_df['Item_Weight_Bucket'] = pd.cut(Grc_Concat_df['Item_Weight'], bins=10)\n",
    "\n",
    "# Displays statistics (mean, min, max, count) for 'Item_Weight' within each bucket\n",
    "print(\"Bucket statistics:\")\n",
    "print(Grc_Concat_df.groupby('Item_Weight_Bucket')['Item_Weight'].agg(['mean', 'min', 'max', 'count']))"
   ]
  }
 ],
 "metadata": {
  "kernelspec": {
   "display_name": "base",
   "language": "python",
   "name": "python3"
  },
  "language_info": {
   "codemirror_mode": {
    "name": "ipython",
    "version": 3
   },
   "file_extension": ".py",
   "mimetype": "text/x-python",
   "name": "python",
   "nbconvert_exporter": "python",
   "pygments_lexer": "ipython3",
   "version": "3.13.5"
  }
 },
 "nbformat": 4,
 "nbformat_minor": 5
}
